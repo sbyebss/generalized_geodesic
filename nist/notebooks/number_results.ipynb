{
 "cells": [
  {
   "cell_type": "markdown",
   "metadata": {},
   "source": [
    "# Accuracy table"
   ]
  },
  {
   "cell_type": "markdown",
   "metadata": {},
   "source": [
    "## Generalized geodesic accuracies"
   ]
  },
  {
   "cell_type": "code",
   "execution_count": null,
   "metadata": {},
   "outputs": [],
   "source": [
    "import torch\n",
    "import numpy as np\n",
    "from copy import deepcopy\n",
    "all_datasets= [\"MNISTM\", \"MNIST\", \"USPS\", \"FMNIST\", \"KMNIST\", \"EMNIST\"]\n",
    "# gap=[]\n",
    "mean_accuracies={}\n",
    "std_accuracies={}\n",
    "num_seed=5\n",
    "for ds in all_datasets:\n",
    "    train_datasets = deepcopy(all_datasets)\n",
    "    train_datasets.remove(ds)\n",
    "    if ds != \"MNISTM\":\n",
    "        train_datasets.remove(\"MNISTM\")\n",
    "    target_alias = \"\".join(ds[0] for ds in train_datasets)\n",
    "    accuracies=torch.load(f\"../logs/compare_methods/5_shot/Spinalnet_clsf_blurry_20shot_parameter/fine_tune_{ds}/run/train_on_{target_alias}_epoch2000_repeat5.pt\")\n",
    "    mean_accuracies[ds] = {key: np.round(sum(acc[-5:]) / len(acc[-5:]),4) for key, acc in accuracies.items()}\n",
    "    std_accuracies[ds] = {key: np.round(np.std(np.array(acc[-5:])),4) for key, acc in accuracies.items()}\n",
    "    # gap.append(mean_accuracies[\"barycenteric_map\"]*100-mean_accuracies[\"otdd_map\"]*100)\n",
    "    mean_accuracies[ds][\"OTDD barycentric projection\"] = mean_accuracies[ds].pop(\"barycenteric_map\")\n",
    "    mean_accuracies[ds][\"OTDD neural map\"] = mean_accuracies[ds].pop(\"otdd_map\")\n",
    "    mean_accuracies[ds][\"Mixup\"] = mean_accuracies[ds].pop(\"mixup\")\n",
    "    std_accuracies[ds][\"OTDD barycentric projection\"] = std_accuracies[ds].pop(\"barycenteric_map\")\n",
    "    std_accuracies[ds][\"OTDD neural map\"] = std_accuracies[ds].pop(\"otdd_map\")\n",
    "    std_accuracies[ds][\"Mixup\"] = std_accuracies[ds].pop(\"mixup\")    \n",
    "    \n",
    "# print(f\"{ds}, accuracy  is\")\n",
    "print(mean_accuracies)\n",
    "print(\"Standard deviation is\")\n",
    "print(std_accuracies)\n",
    "\n",
    "# print(gap)"
   ]
  },
  {
   "cell_type": "code",
   "execution_count": null,
   "metadata": {},
   "outputs": [],
   "source": [
    "\n",
    "import torch\n",
    "import numpy as np\n",
    "from collections import defaultdict\n",
    "# all_datasets= [\"MNISTM\", \"MNIST\", \"USPS\", \"FMNIST\", \"KMNIST\", \"EMNIST\"]\n",
    "# all_datasets= [\"MNIST\", \"USPS\", \"FMNIST\", \"KMNIST\", \"EMNIST\"]\n",
    "# TODO\n",
    "# mean_accuracies=defaultdict(dict)\n",
    "# std_accuracies=defaultdict(dict)\n",
    "for ds in all_datasets:\n",
    "    accuracies=[]\n",
    "    for seed in range(1,6):\n",
    "        accuracy=torch.load(f\"../data/pretrain_classifier/{ds}_5_shot_spinalnet_seed{seed}.pt\")[\"accuracy\"]\n",
    "        accuracies.append(accuracy)\n",
    "    mean_accuracies[ds][\"Train on few-shot dataset\"] = np.round(sum(accuracies) / len(accuracies),4)\n",
    "    std_accuracies[ds][\"Train on few-shot dataset\"] = np.round(np.std(np.array(accuracies)),4)\n",
    "# print(f\"{ds}, accuracy is\")\n",
    "print(mean_accuracies, std_accuracies)"
   ]
  },
  {
   "cell_type": "markdown",
   "metadata": {},
   "source": [
    "## KNN"
   ]
  },
  {
   "cell_type": "code",
   "execution_count": null,
   "metadata": {},
   "outputs": [],
   "source": [
    "import torch\n",
    "import numpy as np\n",
    "\n",
    "for ds in all_datasets:\n",
    "    accuracies=[]\n",
    "    for seed in range(1,6):\n",
    "        accuracy=torch.load(f\"../data/knn_results/{ds}_seed{seed}_5shot.pt\")[\"test_ds_accuracy\"]\n",
    "        accuracies.append(accuracy)\n",
    "    mean_accuracies[ds][\"1-NN  on few-shot dataset\"] = np.round(sum(accuracies) / len(accuracies),4)\n",
    "    std_accuracies[ds][\"1-NN  on few-shot dataset\"] = np.round(np.std(np.array(accuracies)),4)\n",
    "\n",
    "print(mean_accuracies, std_accuracies)"
   ]
  },
  {
   "cell_type": "code",
   "execution_count": null,
   "metadata": {},
   "outputs": [],
   "source": [
    "max_idx = {}\n",
    "methods = mean_accuracies[\"MNIST\"].keys()\n",
    "for ds in all_datasets:   \n",
    "    means = [\n",
    "        mean_accuracies[ds][method] for method in methods\n",
    "    ]\n",
    "    max_idx[ds] = np.argmax(means)\n",
    "    \n",
    "for ith, method in enumerate(methods):\n",
    "    cur_str = f\"{method}\"\n",
    "    for ds in all_datasets:    \n",
    "        mean, std = mean_accuracies[ds][method]*100, std_accuracies[ds][method]*100\n",
    "        if ith == max_idx[ds]:\n",
    "            cur_str += \"& {\\\\bf\" + f\"{mean:2.2f}\" + r\"$\\pm$\" + f\"{std:1.2f}\" + \"}\"\n",
    "        else:\n",
    "            cur_str += f\"& {mean:2.2f}\" + r\"$\\pm$\" + f\"{std:1.2f}\"\n",
    "    print(cur_str + \"\\\\\\\\\")\n",
    "    if method == \"Mixup\":    \n",
    "        print(\"\\\\midrule\")"
   ]
  },
  {
   "cell_type": "markdown",
   "metadata": {},
   "source": [
    "# Pretrained on complete dataset"
   ]
  },
  {
   "cell_type": "code",
   "execution_count": null,
   "metadata": {},
   "outputs": [],
   "source": [
    "import torch\n",
    "import numpy as np\n",
    "from copy import deepcopy\n",
    "all_datasets= [\"MNIST\", \"FMNIST\", \"KMNIST\", \"EMNIST\", \"USPS\",]\n",
    "for ds in all_datasets: \n",
    "    accuracy=torch.load(f\"../data/pretrain_classifier/{ds}_spinalnet_long.pt\")[\"accuracy\"]\n",
    "    \n",
    "    print(f\"{ds}, accuracy is\")\n",
    "    print(accuracy)"
   ]
  }
 ],
 "metadata": {
  "kernelspec": {
   "display_name": "Python 3.8.10 ('otdd-map-iDm_2ZWb-py3.8')",
   "language": "python",
   "name": "python3"
  },
  "language_info": {
   "codemirror_mode": {
    "name": "ipython",
    "version": 3
   },
   "file_extension": ".py",
   "mimetype": "text/x-python",
   "name": "python",
   "nbconvert_exporter": "python",
   "pygments_lexer": "ipython3",
   "version": "3.8.10"
  },
  "vscode": {
   "interpreter": {
    "hash": "cbbddd773a5396d7045e4c6fc4385e628b905520e0d19d9780b52384e4342523"
   }
  }
 },
 "nbformat": 4,
 "nbformat_minor": 2
}
